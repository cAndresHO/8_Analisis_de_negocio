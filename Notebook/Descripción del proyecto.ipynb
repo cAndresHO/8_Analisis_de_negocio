{
 "cells": [
  {
   "cell_type": "markdown",
   "metadata": {},
   "source": [
    "# Descripción del proyecto\n",
    "El proyecto está enfocado en el departamento analítico de una empresa. El objetivo es ayudar a optimizar los gastos de marketing.\n",
    "\n",
    "Se tiene:\n",
    "- registros del servidor con datos sobre las visitas a Y.Afisha desde enero de 2017 hasta diciembre de 2018;\n",
    "- un archivo con los pedidos en este periodo;\n",
    "- estadísticas de gastos de marketing.\n",
    "\n",
    "Lo que se va a investigar:\n",
    "- cómo los clientes usan el servicio;\n",
    "- cuándo empiezan a comprar;\n",
    "- cuánto dinero aporta cada cliente a la compañía;\n",
    "- cuándo los ingresos cubren el costo de adquisición de los clientes."
   ]
  },
  {
   "cell_type": "markdown",
   "metadata": {},
   "source": [
    "# Descripción de los datos\n",
    "\n",
    "La tabla visits (registros del servidor con datos sobre las visitas al sitio web):\n",
    "- Uid: identificador único del usuario;\n",
    "- Device: dispositivo del usuario;\n",
    "- Start Ts: fecha y hora de inicio de la sesión;\n",
    "- End Ts: fecha y hora de término de la sesión;\n",
    "- Source Id: identificador de la fuente de anuncios de la que proviene el usuario.\n",
    "Todas las fechas de esta tabla están en formato AAAA-MM-DD.\n",
    "\n",
    "La tabla orders (datos sobre pedidos):\n",
    "- Uid: identificador único del usuario que realiza un pedido;\n",
    "- Buy Ts: fecha y hora del pedido;\n",
    "- Revenue: ingresos de Y.Afisha de este pedido.\n",
    "\n",
    "La tabla costs (datos sobre gastos de marketing):\n",
    "- source_id: identificador de la fuente de anuncios\n",
    "- dt: fecha;\n",
    "- costs: gastos en esta fuente de anuncios en este día."
   ]
  },
  {
   "cell_type": "markdown",
   "metadata": {},
   "source": []
  }
 ],
 "metadata": {
  "language_info": {
   "name": "python"
  }
 },
 "nbformat": 4,
 "nbformat_minor": 2
}
